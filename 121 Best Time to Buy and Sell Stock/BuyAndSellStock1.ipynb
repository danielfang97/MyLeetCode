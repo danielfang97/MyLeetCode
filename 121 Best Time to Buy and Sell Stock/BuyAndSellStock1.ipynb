{
 "cells": [
  {
   "cell_type": "code",
   "execution_count": null,
   "id": "43fdbe4f",
   "metadata": {},
   "outputs": [],
   "source": [
    "Doing it O(n^2) first"
   ]
  },
  {
   "cell_type": "code",
   "execution_count": null,
   "id": "c88a0de1",
   "metadata": {},
   "outputs": [],
   "source": [
    "class Solution:\n",
    "    def maxProfit(self, prices: List[int]) -> int:\n",
    "        profit = 0\n",
    "        for i in range(len(prices)):\n",
    "            for j in range(i+1, len(prices)):\n",
    "                if prices[j]-prices[i] > profit:\n",
    "                    profit = prices[j]-prices[i]\n",
    "        return profit"
   ]
  },
  {
   "cell_type": "code",
   "execution_count": null,
   "id": "e8d3edce",
   "metadata": {},
   "outputs": [],
   "source": [
    "Try to do better solution by myself"
   ]
  },
  {
   "cell_type": "code",
   "execution_count": null,
   "id": "1726b110",
   "metadata": {},
   "outputs": [],
   "source": [
    "class Solution:\n",
    "    def maxProfit(self, prices: List[int]) -> int:\n",
    "        buy = 0\n",
    "        sell = 1\n",
    "        maxProfit = 0\n",
    "        while sell < len(prices):\n",
    "            currentProfit = prices[sell] - prices[buy]\n",
    "            if prices[buy] < prices[sell]:\n",
    "                maxProfit = max(maxProfit, currentProfit)\n",
    "            else:\n",
    "                buy = sell\n",
    "            sell += 1\n",
    "        return maxProfit"
   ]
  }
 ],
 "metadata": {
  "kernelspec": {
   "display_name": "Python 3 (ipykernel)",
   "language": "python",
   "name": "python3"
  },
  "language_info": {
   "codemirror_mode": {
    "name": "ipython",
    "version": 3
   },
   "file_extension": ".py",
   "mimetype": "text/x-python",
   "name": "python",
   "nbconvert_exporter": "python",
   "pygments_lexer": "ipython3",
   "version": "3.9.13"
  }
 },
 "nbformat": 4,
 "nbformat_minor": 5
}
