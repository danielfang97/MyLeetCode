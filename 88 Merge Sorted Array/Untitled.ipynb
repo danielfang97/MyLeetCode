{
 "cells": [
  {
   "cell_type": "markdown",
   "id": "90767736",
   "metadata": {},
   "source": [
    "88. Merge Sorted Array"
   ]
  },
  {
   "cell_type": "markdown",
   "id": "1df0611f",
   "metadata": {},
   "source": [
    "My Solution"
   ]
  },
  {
   "cell_type": "code",
   "execution_count": 1,
   "id": "e3ddb53e",
   "metadata": {},
   "outputs": [
    {
     "ename": "SyntaxError",
     "evalue": "invalid syntax (84356426.py, line 13)",
     "output_type": "error",
     "traceback": [
      "\u001b[0;36m  Input \u001b[0;32mIn [1]\u001b[0;36m\u001b[0m\n\u001b[0;31m    if nums1[] <= nums2[n]:\u001b[0m\n\u001b[0m             ^\u001b[0m\n\u001b[0;31mSyntaxError\u001b[0m\u001b[0;31m:\u001b[0m invalid syntax\n"
     ]
    }
   ],
   "source": [
    "class Solution:\n",
    "    def merge(self, nums1: List[int], m: int, nums2: List[int], n: int) -> None:\n",
    "        i = m-1\n",
    "        j = n-1\n",
    "        while i >= 0 and j >= 0:\n",
    "            if nums2[j] > nums1[i]:\n",
    "                nums1[i+j+1] = nums2[j]\n",
    "                j -= 1\n",
    "            else:\n",
    "                nums1[i+j+1] = nums1[i]\n",
    "                nums1[i+j] = nums1[i+j-1]\n",
    "                i -= 1\n",
    "        while j >= 0:\n",
    "            nums1[j] = nums2[j]\n",
    "            j -= 1\n",
    "        \"\"\"\n",
    "        Do not return anything, modify nums1 in-place instead.\n",
    "        \"\"\""
   ]
  },
  {
   "cell_type": "markdown",
   "id": "1e21a8c9",
   "metadata": {},
   "source": [
    "Best Solution"
   ]
  },
  {
   "cell_type": "code",
   "execution_count": null,
   "id": "679318f2",
   "metadata": {},
   "outputs": [],
   "source": [
    "class Solution:\n",
    "    def merge(self, nums1: List[int], m: int, nums2: List[int], n: int) -> None:\n",
    "        a, b, index = m-1, n-1, m+n-1\n",
    "        \n",
    "        while b >= 0:\n",
    "            if a >= 0 and nums1[a] > nums2[b]:\n",
    "                nums1[index] = nums1[a]\n",
    "                a -= 1\n",
    "            else: \n",
    "                nums1[index] = nums2[b]\n",
    "                b\n",
    "        \"\"\"\n",
    "        Do not return anything, modify nums1 in-place instead.\n",
    "        \"\"\""
   ]
  }
 ],
 "metadata": {
  "kernelspec": {
   "display_name": "Python 3 (ipykernel)",
   "language": "python",
   "name": "python3"
  },
  "language_info": {
   "codemirror_mode": {
    "name": "ipython",
    "version": 3
   },
   "file_extension": ".py",
   "mimetype": "text/x-python",
   "name": "python",
   "nbconvert_exporter": "python",
   "pygments_lexer": "ipython3",
   "version": "3.9.12"
  }
 },
 "nbformat": 4,
 "nbformat_minor": 5
}
