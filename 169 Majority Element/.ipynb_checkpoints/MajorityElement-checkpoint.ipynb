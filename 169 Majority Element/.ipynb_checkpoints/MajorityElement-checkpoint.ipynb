{
 "cells": [
  {
   "cell_type": "markdown",
   "id": "b20edc39",
   "metadata": {},
   "source": [
    "My solution just sorting and then find the middle element"
   ]
  },
  {
   "cell_type": "code",
   "execution_count": null,
   "id": "97d8c4cd",
   "metadata": {},
   "outputs": [],
   "source": [
    "class Solution:\n",
    "    def majorityElement(self, nums: List[int]) -> int:\n",
    "        numsSorted = sorted(nums)\n",
    "        length = len(nums)\n",
    "        return numsSorted[math.floor(length/2)]"
   ]
  },
  {
   "cell_type": "code",
   "execution_count": null,
   "id": "f30303b7",
   "metadata": {},
   "outputs": [],
   "source": [
    "class Solution:\n",
    "    def majorityElement(self, nums: List[int]) -> int:\n",
    "        nums.sort()\n",
    "        return nums[len(nums)//2]"
   ]
  },
  {
   "cell_type": "markdown",
   "id": "41ac9935",
   "metadata": {},
   "source": [
    "Watching video to learn O(N) solution\n",
    "Boyer-Moore Voting Algorithm"
   ]
  },
  {
   "cell_type": "code",
   "execution_count": null,
   "id": "66dacaba",
   "metadata": {},
   "outputs": [],
   "source": [
    "class Solution:\n",
    "    def majorityElement(self, nums: List[int]) -> int:\n",
    "        count = 0\n",
    "        candidate = None\n",
    "        \n",
    "        for num in nums:\n",
    "            if count == 0:\n",
    "                candidate = num\n",
    "            count += (1 if num == candidate else -1)\n",
    "            \n",
    "        return candidate"
   ]
  }
 ],
 "metadata": {
  "kernelspec": {
   "display_name": "Python 3 (ipykernel)",
   "language": "python",
   "name": "python3"
  },
  "language_info": {
   "codemirror_mode": {
    "name": "ipython",
    "version": 3
   },
   "file_extension": ".py",
   "mimetype": "text/x-python",
   "name": "python",
   "nbconvert_exporter": "python",
   "pygments_lexer": "ipython3",
   "version": "3.9.13"
  }
 },
 "nbformat": 4,
 "nbformat_minor": 5
}
