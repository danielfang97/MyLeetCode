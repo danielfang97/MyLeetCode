{
 "cells": [
  {
   "cell_type": "markdown",
   "id": "adbc3ffb",
   "metadata": {},
   "source": [
    "Doing it in O(n^2) first"
   ]
  },
  {
   "cell_type": "code",
   "execution_count": null,
   "id": "4fd85d13",
   "metadata": {},
   "outputs": [],
   "source": [
    "class Solution:\n",
    "    def rotate(self, nums: List[int], k: int) -> None:  \n",
    "        for i in range(k):\n",
    "            j = len(nums)-1\n",
    "            temp = nums[len(nums)-1]\n",
    "            while j > 0:\n",
    "                nums[j] = nums[j-1]\n",
    "                j -= 1\n",
    "            nums[0] = temp\n",
    "            "
   ]
  },
  {
   "cell_type": "markdown",
   "id": "9dd4b4a0",
   "metadata": {},
   "source": [
    "Better solution\n",
    "\n",
    "1. rotate entire array\n",
    "2. rotate first k half of array\n",
    "3. rotate second half array"
   ]
  },
  {
   "cell_type": "code",
   "execution_count": null,
   "id": "87a8665a",
   "metadata": {},
   "outputs": [],
   "source": [
    "class Solution:\n",
    "    def reverse(self, nums: list, start: int, end: int) -> None:\n",
    "        while start < end:\n",
    "            nums[start], nums[end] = nums[end], nums[start]\n",
    "            start, end = start + 1, end - 1\n",
    "    \n",
    "    def rotate(self, nums: List[int], k: int) -> None:  \n",
    "        n = len(nums)\n",
    "        k = k%n\n",
    "        \n",
    "        self.reverse(nums, 0, n - 1)\n",
    "        self.reverse(nums, 0, k - 1)\n",
    "        self.reverse(nums, k, n - 1)"
   ]
  }
 ],
 "metadata": {
  "kernelspec": {
   "display_name": "Python 3 (ipykernel)",
   "language": "python",
   "name": "python3"
  },
  "language_info": {
   "codemirror_mode": {
    "name": "ipython",
    "version": 3
   },
   "file_extension": ".py",
   "mimetype": "text/x-python",
   "name": "python",
   "nbconvert_exporter": "python",
   "pygments_lexer": "ipython3",
   "version": "3.9.13"
  }
 },
 "nbformat": 4,
 "nbformat_minor": 5
}
