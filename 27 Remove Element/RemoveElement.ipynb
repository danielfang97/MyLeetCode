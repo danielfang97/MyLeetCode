{
 "cells": [
  {
   "cell_type": "markdown",
   "id": "07d7367a",
   "metadata": {},
   "source": [
    "27 Remove Element"
   ]
  },
  {
   "cell_type": "markdown",
   "id": "032e0e6b",
   "metadata": {},
   "source": [
    "My Solution (Brute Force not in-place)"
   ]
  },
  {
   "cell_type": "code",
   "execution_count": 1,
   "id": "75121807",
   "metadata": {},
   "outputs": [
    {
     "ename": "IndentationError",
     "evalue": "expected an indented block (2277908380.py, line 7)",
     "output_type": "error",
     "traceback": [
      "\u001b[0;36m  Input \u001b[0;32mIn [1]\u001b[0;36m\u001b[0m\n\u001b[0;31m    \u001b[0m\n\u001b[0m    ^\u001b[0m\n\u001b[0;31mIndentationError\u001b[0m\u001b[0;31m:\u001b[0m expected an indented block\n"
     ]
    }
   ],
   "source": [
    "class Solution:\n",
    "    def removeElement(self, nums: List[int], val: int) -> int:\n",
    "        temp = [None] * len(nums)\n",
    "        count = 0\n",
    "        for x in range(len(nums)):\n",
    "            if nums[x] != val:\n",
    "                temp[count] = nums[x]\n",
    "                count += 1\n",
    "        \n",
    "        for x in range(count):\n",
    "            nums[x] = temp[x]\n",
    "        return count"
   ]
  },
  {
   "cell_type": "markdown",
   "id": "5be5a53a",
   "metadata": {},
   "source": [
    "Suggested Solution (watched video)"
   ]
  },
  {
   "cell_type": "code",
   "execution_count": null,
   "id": "4c20591e",
   "metadata": {},
   "outputs": [],
   "source": [
    "class Solution:\n",
    "    def removeElement(self, nums: List[int], val: int) -> int:\n",
    "        reader, writer = 0, 0\n",
    "        while reader < len(nums):\n",
    "            if nums[reader] != val:\n",
    "                nums[writer] = nums[reader]\n",
    "                reader += 1\n",
    "                writer += 1\n",
    "            else:\n",
    "                reader += 1\n",
    "        return writer"
   ]
  }
 ],
 "metadata": {
  "kernelspec": {
   "display_name": "Python 3 (ipykernel)",
   "language": "python",
   "name": "python3"
  },
  "language_info": {
   "codemirror_mode": {
    "name": "ipython",
    "version": 3
   },
   "file_extension": ".py",
   "mimetype": "text/x-python",
   "name": "python",
   "nbconvert_exporter": "python",
   "pygments_lexer": "ipython3",
   "version": "3.9.12"
  }
 },
 "nbformat": 4,
 "nbformat_minor": 5
}
