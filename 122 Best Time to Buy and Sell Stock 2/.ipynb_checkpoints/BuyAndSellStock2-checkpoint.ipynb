{
 "cells": [
  {
   "cell_type": "markdown",
   "id": "afdbdb63",
   "metadata": {},
   "source": [
    "I have no idea how to figure this one out."
   ]
  },
  {
   "cell_type": "code",
   "execution_count": null,
   "id": "d8d3e034",
   "metadata": {},
   "outputs": [],
   "source": [
    "class Solution:\n",
    "    def maxProfit(self, prices: List[int]) -> int:\n",
    "        maxprofit = 0\n",
    "        for i in range(1, len(prices)):\n",
    "            if prices[i] > prices[i-1]:\n",
    "                maxprofit += prices[i] - prices[i-1]\n",
    "        return maxprofit"
   ]
  },
  {
   "cell_type": "markdown",
   "id": "d550f17e",
   "metadata": {},
   "source": [
    "It's really just every single one space increment increase huh"
   ]
  }
 ],
 "metadata": {
  "kernelspec": {
   "display_name": "Python 3 (ipykernel)",
   "language": "python",
   "name": "python3"
  },
  "language_info": {
   "codemirror_mode": {
    "name": "ipython",
    "version": 3
   },
   "file_extension": ".py",
   "mimetype": "text/x-python",
   "name": "python",
   "nbconvert_exporter": "python",
   "pygments_lexer": "ipython3",
   "version": "3.9.13"
  }
 },
 "nbformat": 4,
 "nbformat_minor": 5
}
