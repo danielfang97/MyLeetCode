{
 "cells": [
  {
   "cell_type": "code",
   "execution_count": null,
   "id": "75dc2fbe",
   "metadata": {},
   "outputs": [],
   "source": [
    "class Solution:\n",
    "    def removeDuplicates(self, nums: List[int]) -> int:\n",
    "        reader, writer = 1, 1\n",
    "        repeat = False\n",
    "        reader = 1\n",
    "        while reader < len(nums):\n",
    "            if nums[reader] == nums[reader-1] and repeat:\n",
    "                reader += 1\n",
    "            elif nums[reader] == nums[reader-1] and not repeat:\n",
    "                nums[writer] = nums[reader]\n",
    "                writer += 1\n",
    "                reader += 1\n",
    "                repeat = True\n",
    "            else:\n",
    "                nums[writer] = nums[reader]\n",
    "                writer += 1\n",
    "                reader += 1\n",
    "                repeat = False\n",
    "        return writer"
   ]
  }
 ],
 "metadata": {
  "kernelspec": {
   "display_name": "Python 3 (ipykernel)",
   "language": "python",
   "name": "python3"
  },
  "language_info": {
   "codemirror_mode": {
    "name": "ipython",
    "version": 3
   },
   "file_extension": ".py",
   "mimetype": "text/x-python",
   "name": "python",
   "nbconvert_exporter": "python",
   "pygments_lexer": "ipython3",
   "version": "3.9.13"
  }
 },
 "nbformat": 4,
 "nbformat_minor": 5
}
