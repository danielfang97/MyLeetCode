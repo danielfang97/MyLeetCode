{
 "cells": [
  {
   "cell_type": "markdown",
   "id": "2568d59a",
   "metadata": {},
   "source": [
    "Remove Duplicates from Sorted Array"
   ]
  },
  {
   "cell_type": "markdown",
   "id": "6b21aab4",
   "metadata": {},
   "source": [
    "My Solution (used a set to store duplicates)"
   ]
  },
  {
   "cell_type": "code",
   "execution_count": null,
   "id": "e96918da",
   "metadata": {},
   "outputs": [],
   "source": [
    "class Solution:\n",
    "    def removeDuplicates(self, nums: List[int]) -> int:\n",
    "        visited = {}\n",
    "        reader, writer = 0, 0\n",
    "        for reader in range(len(nums)):\n",
    "            if nums[reader] in visited:\n",
    "                reader += 1\n",
    "            else:\n",
    "                nums[writer] = nums[reader]\n",
    "                visited.add(nums[reader])\n",
    "                writer += 1\n",
    "                reader += 1\n",
    "        return writer"
   ]
  },
  {
   "cell_type": "markdown",
   "id": "a4494050",
   "metadata": {},
   "source": [
    "Solution after watching half a video (I forgot it's already sorted)"
   ]
  },
  {
   "cell_type": "code",
   "execution_count": null,
   "id": "e5469a2c",
   "metadata": {},
   "outputs": [],
   "source": [
    "class Solution:\n",
    "    def removeDuplicates(self, nums: List[int]) -> int:\n",
    "        reader, writer = 1, 1\n",
    "        while reader < len(nums):\n",
    "            if nums[reader] == nums[reader-1]:\n",
    "                reader += 1\n",
    "            else:\n",
    "                nums[writer] = nums[reader]\n",
    "                writer += 1\n",
    "                reader += 1\n",
    "        return writer"
   ]
  }
 ],
 "metadata": {
  "kernelspec": {
   "display_name": "Python 3 (ipykernel)",
   "language": "python",
   "name": "python3"
  },
  "language_info": {
   "codemirror_mode": {
    "name": "ipython",
    "version": 3
   },
   "file_extension": ".py",
   "mimetype": "text/x-python",
   "name": "python",
   "nbconvert_exporter": "python",
   "pygments_lexer": "ipython3",
   "version": "3.9.12"
  }
 },
 "nbformat": 4,
 "nbformat_minor": 5
}
